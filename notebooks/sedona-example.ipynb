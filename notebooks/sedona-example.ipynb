{
 "cells": [
  {
   "cell_type": "markdown",
   "id": "ccb94832",
   "metadata": {},
   "source": [
    "# Apache Sedona Example Notebook\n",
    "\n",
    "This notebook demonstrates basic Apache Sedona functionality for spatial data processing.\n",
    "\n",
    "## Setup and Initialization"
   ]
  },
  {
   "cell_type": "code",
   "execution_count": 1,
   "id": "b3c42973-3af1-455b-8ac3-a19fc8c97ec3",
   "metadata": {},
   "outputs": [
    {
     "name": "stderr",
     "output_type": "stream",
     "text": [
      "Setting default log level to \"WARN\".\n",
      "To adjust logging level use sc.setLogLevel(newLevel). For SparkR, use setLogLevel(newLevel).\n",
      "25/10/25 11:34:10 WARN NativeCodeLoader: Unable to load native-hadoop library for your platform... using builtin-java classes where applicable\n",
      "/tmp/ipykernel_43/3338570753.py:5: DeprecationWarning: Call to deprecated function registerAll (Deprecated since 1.4.1, use SedonaContext.create() instead.).\n",
      "  SedonaRegistrator.registerAll(spark)\n"
     ]
    },
    {
     "name": "stdout",
     "output_type": "stream",
     "text": [
      "✅ Sedona works: POINT (1 1)\n"
     ]
    },
    {
     "name": "stderr",
     "output_type": "stream",
     "text": [
      "/usr/local/lib/python3.9/dist-packages/sedona/register/geo_registrator.py:45: DeprecationWarning: Call to deprecated function register (Deprecated since 1.4.1, use SedonaContext.create() instead.).\n",
      "  cls.register(spark)\n",
      "25/10/25 11:34:13 WARN UDTRegistration: Cannot register UDT for org.locationtech.jts.geom.Geometry, which is already registered.\n",
      "25/10/25 11:34:13 WARN UDTRegistration: Cannot register UDT for org.locationtech.jts.index.SpatialIndex, which is already registered.\n",
      "25/10/25 11:34:13 WARN UDTRegistration: Cannot register UDT for org.geotools.coverage.grid.GridCoverage2D, which is already registered.\n",
      "25/10/25 11:34:13 WARN SimpleFunctionRegistry: The function st_union_aggr replaced a previously registered function.\n",
      "25/10/25 11:34:13 WARN SimpleFunctionRegistry: The function st_envelope_aggr replaced a previously registered function.\n",
      "25/10/25 11:34:13 WARN SimpleFunctionRegistry: The function st_intersection_aggr replaced a previously registered function.\n"
     ]
    }
   ],
   "source": [
    "from pyspark.sql import SparkSession\n",
    "from sedona.register import SedonaRegistrator\n",
    "\n",
    "spark = SparkSession.builder.appName('Test').getOrCreate()\n",
    "SedonaRegistrator.registerAll(spark)\n",
    "result = spark.sql('SELECT ST_Point(1.0, 1.0) as point').collect()\n",
    "print('✅ Sedona works:', result[0]['point'])"
   ]
  },
  {
   "cell_type": "code",
   "execution_count": 2,
   "id": "061f4d0d",
   "metadata": {},
   "outputs": [],
   "source": [
    "from pyspark.sql import SparkSession\n",
    "from sedona.register import SedonaRegistrator\n",
    "from sedona.utils import SedonaKryoRegistrator, KryoSerializer\n",
    "import geopandas as gpd\n",
    "import matplotlib.pyplot as plt\n",
    "import folium"
   ]
  },
  {
   "cell_type": "code",
   "execution_count": 3,
   "id": "0da8d14a",
   "metadata": {},
   "outputs": [
    {
     "name": "stderr",
     "output_type": "stream",
     "text": [
      "25/10/25 11:34:21 WARN SparkSession: Using an existing Spark session; only runtime SQL configurations will take effect.\n",
      "/tmp/ipykernel_43/544328490.py:13: DeprecationWarning: Call to deprecated function registerAll (Deprecated since 1.4.1, use SedonaContext.create() instead.).\n",
      "  SedonaRegistrator.registerAll(spark)\n",
      "/usr/local/lib/python3.9/dist-packages/sedona/register/geo_registrator.py:45: DeprecationWarning: Call to deprecated function register (Deprecated since 1.4.1, use SedonaContext.create() instead.).\n",
      "  cls.register(spark)\n",
      "25/10/25 11:34:21 WARN UDTRegistration: Cannot register UDT for org.locationtech.jts.geom.Geometry, which is already registered.\n",
      "25/10/25 11:34:21 WARN UDTRegistration: Cannot register UDT for org.locationtech.jts.index.SpatialIndex, which is already registered.\n",
      "25/10/25 11:34:21 WARN UDTRegistration: Cannot register UDT for org.geotools.coverage.grid.GridCoverage2D, which is already registered.\n",
      "25/10/25 11:34:21 WARN SimpleFunctionRegistry: The function st_union_aggr replaced a previously registered function.\n",
      "25/10/25 11:34:21 WARN SimpleFunctionRegistry: The function st_envelope_aggr replaced a previously registered function.\n",
      "25/10/25 11:34:21 WARN SimpleFunctionRegistry: The function st_intersection_aggr replaced a previously registered function.\n"
     ]
    },
    {
     "data": {
      "text/plain": [
       "True"
      ]
     },
     "execution_count": 3,
     "metadata": {},
     "output_type": "execute_result"
    }
   ],
   "source": [
    "# Initialize Spark with Sedona\n",
    "spark = SparkSession.builder \\\n",
    "    .appName(\"SedonaExample\") \\\n",
    "    .config(\"spark.serializer\", KryoSerializer.getName) \\\n",
    "    .config(\"spark.kryo.registrator\", SedonaKryoRegistrator.getName) \\\n",
    "    .config('spark.jars.packages',\n",
    "            'org.apache.sedona:sedona-spark-shaded-3.0_2.12:1.4.1,'\n",
    "            'org.apache.sedona:sedona-viz-3.0_2.12:1.4.1,'\n",
    "            'org.apache.sedona:sedona-python-adapter-3.0_2.12:1.4.1') \\\n",
    "    .getOrCreate()\n",
    "\n",
    "# Register Sedona functions\n",
    "SedonaRegistrator.registerAll(spark)"
   ]
  },
  {
   "cell_type": "markdown",
   "id": "1dff8063",
   "metadata": {},
   "source": [
    "## Troubleshooting\n",
    "\n",
    "If you encounter `NoClassDefFoundError: org/opengis/referencing/NoSuchAuthorityCodeException`, this means the GeoTools dependencies are missing. \n",
    "\n",
    "**Solution:**\n",
    "1. Rebuild the Docker image with the updated Dockerfile that includes GeoTools JARs\n",
    "2. Or manually add the required JARs to the Spark classpath\n",
    "\n",
    "**Manual fix (if needed):**\n",
    "```bash\n",
    "# From within the container\n",
    "wget -P /opt/spark/jars/ https://repo1.maven.org/maven2/org/geotools/gt-referencing/29.2/gt-referencing-29.2.jar\n",
    "wget -P /opt/spark/jars/ https://repo1.maven.org/maven2/org/geotools/gt-opengis/29.2/gt-opengis-29.2.jar\n",
    "```"
   ]
  },
  {
   "cell_type": "markdown",
   "id": "695f8aa5",
   "metadata": {},
   "source": [
    "## Creating Spatial Data"
   ]
  },
  {
   "cell_type": "code",
   "execution_count": 4,
   "id": "12c9912c",
   "metadata": {},
   "outputs": [
    {
     "name": "stdout",
     "output_type": "stream",
     "text": [
      "+--------------------+-----+---------+\n",
      "|            geometry|value|     name|\n",
      "+--------------------+-----+---------+\n",
      "|POINT (-60.207214...|   45|point_654|\n",
      "|POINT (-164.61098...|   54|point_765|\n",
      "|POINT (80.912018 ...|   17|point_312|\n",
      "|POINT (162.146541...|    7| point_24|\n",
      "|POINT (-67.713551...|   85|point_779|\n",
      "+--------------------+-----+---------+\n",
      "only showing top 5 rows\n",
      "\n"
     ]
    }
   ],
   "source": [
    "# Create sample spatial data\n",
    "sample_points = spark.sql(\"\"\"\n",
    "    SELECT \n",
    "        ST_Point(CAST(RAND() * 360 - 180 AS DECIMAL(10,6)), \n",
    "                 CAST(RAND() * 180 - 90 AS DECIMAL(10,6))) as geometry,\n",
    "        CAST(RAND() * 100 AS INT) as value,\n",
    "        'point_' || CAST(RAND() * 1000 AS INT) as name\n",
    "    FROM range(100)\n",
    "\"\"\")\n",
    "\n",
    "sample_points.show(5)"
   ]
  },
  {
   "cell_type": "markdown",
   "id": "ddeba0a6",
   "metadata": {},
   "source": [
    "## Spatial Operations"
   ]
  },
  {
   "cell_type": "code",
   "execution_count": 5,
   "id": "ecc4099a",
   "metadata": {},
   "outputs": [
    {
     "name": "stdout",
     "output_type": "stream",
     "text": [
      "Total points: 100\n",
      "Points within bounding box: 1\n",
      "+--------------------+-----+---------+---------+---------+\n",
      "|            geometry|value|     name|longitude| latitude|\n",
      "+--------------------+-----+---------+---------+---------+\n",
      "|POINT (9.011882 -...|    0|point_237| 9.011882|-3.705894|\n",
      "+--------------------+-----+---------+---------+---------+\n",
      "\n"
     ]
    }
   ],
   "source": [
    "# Create a polygon for spatial filtering\n",
    "bounding_box = spark.sql(\"\"\"\n",
    "    SELECT ST_PolygonFromEnvelope(-10.0, -10.0, 10.0, 10.0) as bbox\n",
    "\"\"\")\n",
    "\n",
    "# Filter points within the bounding box\n",
    "sample_points.createOrReplaceTempView(\"points\")\n",
    "bounding_box.createOrReplaceTempView(\"bbox\")\n",
    "\n",
    "filtered_points = spark.sql(\"\"\"\n",
    "    SELECT p.*, ST_X(p.geometry) as longitude, ST_Y(p.geometry) as latitude\n",
    "    FROM points p, bbox b\n",
    "    WHERE ST_Within(p.geometry, b.bbox)\n",
    "\"\"\")\n",
    "\n",
    "print(f\"Total points: {sample_points.count()}\")\n",
    "print(f\"Points within bounding box: {filtered_points.count()}\")\n",
    "filtered_points.show()"
   ]
  },
  {
   "cell_type": "markdown",
   "id": "1f3051b1",
   "metadata": {},
   "source": [
    "## Spatial Analysis"
   ]
  },
  {
   "cell_type": "code",
   "execution_count": 6,
   "id": "0659dcb9",
   "metadata": {},
   "outputs": [
    {
     "name": "stdout",
     "output_type": "stream",
     "text": [
      "Closest point pairs:\n",
      "+---------+---------+------------------+\n",
      "|   point1|   point2|          distance|\n",
      "+---------+---------+------------------+\n",
      "|point_263|point_959|1.8352817229237575|\n",
      "|point_959|point_263|1.8352817229237575|\n",
      "|point_714|point_367|3.2390974849178296|\n",
      "|point_367|point_714|3.2390974849178296|\n",
      "|point_294|point_518| 3.634938741949033|\n",
      "|point_518|point_294| 3.634938741949033|\n",
      "|point_161|point_571| 5.272422458978121|\n",
      "|point_571|point_161| 5.272422458978121|\n",
      "|point_284|point_682| 5.392393221145693|\n",
      "|point_682|point_284| 5.392393221145693|\n",
      "+---------+---------+------------------+\n",
      "\n"
     ]
    }
   ],
   "source": [
    "# Calculate distances between points\n",
    "distance_analysis = spark.sql(\"\"\"\n",
    "    SELECT \n",
    "        p1.name as point1,\n",
    "        p2.name as point2,\n",
    "        ST_Distance(p1.geometry, p2.geometry) as distance\n",
    "    FROM points p1\n",
    "    CROSS JOIN points p2\n",
    "    WHERE p1.name != p2.name\n",
    "    ORDER BY distance\n",
    "    LIMIT 10\n",
    "\"\"\")\n",
    "\n",
    "print(\"Closest point pairs:\")\n",
    "distance_analysis.show()"
   ]
  },
  {
   "cell_type": "markdown",
   "id": "c3b3f692",
   "metadata": {},
   "source": [
    "## Visualization"
   ]
  },
  {
   "cell_type": "code",
   "execution_count": 7,
   "id": "a3b64423",
   "metadata": {},
   "outputs": [
    {
     "data": {
      "image/png": "[encoded data removed]",
      "text/plain": [
       "<Figure size 1000x600 with 2 Axes>"
      ]
     },
     "metadata": {},
     "output_type": "display_data"
    }
   ],
   "source": [
    "# Convert to pandas for visualization\n",
    "points_pdf = filtered_points.toPandas()\n",
    "\n",
    "# Create a simple scatter plot\n",
    "plt.figure(figsize=(10, 6))\n",
    "plt.scatter(points_pdf['longitude'], points_pdf['latitude'], \n",
    "           c=points_pdf['value'], cmap='viridis', alpha=0.7)\n",
    "plt.colorbar(label='Value')\n",
    "plt.xlabel('Longitude')\n",
    "plt.ylabel('Latitude')\n",
    "plt.title('Spatial Points Distribution')\n",
    "plt.grid(True, alpha=0.3)\n",
    "plt.show()"
   ]
  },
  {
   "cell_type": "code",
   "execution_count": 9,
   "id": "9b3bd9b2",
   "metadata": {},
   "outputs": [],
   "source": [
    "# Create an interactive map with Folium\n",
    "if len(points_pdf) > 0:\n",
    "    center_lat = points_pdf['latitude'].mean()\n",
    "    center_lon = points_pdf['longitude'].mean()\n",
    "    \n",
    "    m = folium.Map(location=[center_lat, center_lon], zoom_start=6)\n",
    "    \n",
    "    for idx, row in points_pdf.iterrows():\n",
    "        folium.CircleMarker(\n",
    "            location=[row['latitude'], row['longitude']],\n",
    "            radius=5,\n",
    "            popup=f\"Name: {row['name']}<br>Value: {row['value']}\",\n",
    "            color='red',\n",
    "            fill=True,\n",
    "            fillColor='red'\n",
    "        ).add_to(m)\n",
    "    \n",
    "    # Add bounding box\n",
    "    folium.Rectangle(\n",
    "        bounds=[[-10, -10], [10, 10]],\n",
    "        color='blue',\n",
    "        fill=False,\n",
    "        popup='Bounding Box'\n",
    "    ).add_to(m)\n",
    "    \n",
    "    m\n",
    "else:\n",
    "    print(\"No points found within the bounding box to display.\")"
   ]
  },
  {
   "cell_type": "markdown",
   "id": "2487af2a",
   "metadata": {},
   "source": [
    "## Cleanup"
   ]
  },
  {
   "cell_type": "code",
   "execution_count": null,
   "id": "49960037",
   "metadata": {},
   "outputs": [],
   "source": [
    "# Stop Spark session\n",
    "spark.stop()"
   ]
  }
 ],
 "metadata": {
  "kernelspec": {
   "display_name": "Python 3 (ipykernel)",
   "language": "python",
   "name": "python3"
  },
  "language_info": {
   "codemirror_mode": {
    "name": "ipython",
    "version": 3
   },
   "file_extension": ".py",
   "mimetype": "text/x-python",
   "name": "python",
   "nbconvert_exporter": "python",
   "pygments_lexer": "ipython3",
   "version": "3.9.2"
  }
 },
 "nbformat": 4,
 "nbformat_minor": 5
}
