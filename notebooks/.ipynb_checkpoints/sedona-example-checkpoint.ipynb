{
 "cells": [
  {
   "cell_type": "markdown",
   "id": "ccb94832",
   "metadata": {},
   "source": [
    "# Apache Sedona Example Notebook\n",
    "\n",
    "This notebook demonstrates basic Apache Sedona functionality for spatial data processing.\n",
    "\n",
    "## Setup and Initialization"
   ]
  },
  {
   "cell_type": "code",
   "execution_count": null,
   "id": "061f4d0d",
   "metadata": {},
   "outputs": [],
   "source": [
    "from pyspark.sql import SparkSession\n",
    "from sedona.register import SedonaRegistrator\n",
    "from sedona.utils import SedonaKryoRegistrator, KryoSerializer\n",
    "import geopandas as gpd\n",
    "import matplotlib.pyplot as plt\n",
    "import folium"
   ]
  },
  {
   "cell_type": "code",
   "execution_count": null,
   "id": "0da8d14a",
   "metadata": {},
   "outputs": [],
   "source": [
    "# Initialize Spark with Sedona\n",
    "spark = SparkSession.builder \\\n",
    "    .appName(\"SedonaExample\") \\\n",
    "    .config(\"spark.serializer\", KryoSerializer.getName) \\\n",
    "    .config(\"spark.kryo.registrator\", SedonaKryoRegistrator.getName) \\\n",
    "    .config('spark.jars.packages',\n",
    "            'org.apache.sedona:sedona-spark-shaded-3.0_2.12:1.4.1,'\n",
    "            'org.apache.sedona:sedona-viz-3.0_2.12:1.4.1,'\n",
    "            'org.apache.sedona:sedona-python-adapter-3.0_2.12:1.4.1') \\\n",
    "    .getOrCreate()\n",
    "\n",
    "# Register Sedona functions\n",
    "SedonaRegistrator.registerAll(spark)"
   ]
  },
  {
   "cell_type": "markdown",
   "id": "695f8aa5",
   "metadata": {},
   "source": [
    "## Creating Spatial Data"
   ]
  },
  {
   "cell_type": "code",
   "execution_count": null,
   "id": "12c9912c",
   "metadata": {},
   "outputs": [],
   "source": [
    "# Create sample spatial data\n",
    "sample_points = spark.sql(\"\"\"\n",
    "    SELECT \n",
    "        ST_Point(CAST(RAND() * 360 - 180 AS DECIMAL(10,6)), \n",
    "                 CAST(RAND() * 180 - 90 AS DECIMAL(10,6))) as geometry,\n",
    "        CAST(RAND() * 100 AS INT) as value,\n",
    "        'point_' || CAST(RAND() * 1000 AS INT) as name\n",
    "    FROM range(100)\n",
    "\"\"\")\n",
    "\n",
    "sample_points.show(5)"
   ]
  },
  {
   "cell_type": "markdown",
   "id": "ddeba0a6",
   "metadata": {},
   "source": [
    "## Spatial Operations"
   ]
  },
  {
   "cell_type": "code",
   "execution_count": null,
   "id": "ecc4099a",
   "metadata": {},
   "outputs": [],
   "source": [
    "# Create a polygon for spatial filtering\n",
    "bounding_box = spark.sql(\"\"\"\n",
    "    SELECT ST_PolygonFromEnvelope(-10.0, -10.0, 10.0, 10.0) as bbox\n",
    "\"\"\")\n",
    "\n",
    "# Filter points within the bounding box\n",
    "sample_points.createOrReplaceTempView(\"points\")\n",
    "bounding_box.createOrReplaceTempView(\"bbox\")\n",
    "\n",
    "filtered_points = spark.sql(\"\"\"\n",
    "    SELECT p.*, ST_X(p.geometry) as longitude, ST_Y(p.geometry) as latitude\n",
    "    FROM points p, bbox b\n",
    "    WHERE ST_Within(p.geometry, b.bbox)\n",
    "\"\"\")\n",
    "\n",
    "print(f\"Total points: {sample_points.count()}\")\n",
    "print(f\"Points within bounding box: {filtered_points.count()}\")\n",
    "filtered_points.show()"
   ]
  },
  {
   "cell_type": "markdown",
   "id": "1f3051b1",
   "metadata": {},
   "source": [
    "## Spatial Analysis"
   ]
  },
  {
   "cell_type": "code",
   "execution_count": null,
   "id": "0659dcb9",
   "metadata": {},
   "outputs": [],
   "source": [
    "# Calculate distances between points\n",
    "distance_analysis = spark.sql(\"\"\"\n",
    "    SELECT \n",
    "        p1.name as point1,\n",
    "        p2.name as point2,\n",
    "        ST_Distance(p1.geometry, p2.geometry) as distance\n",
    "    FROM points p1\n",
    "    CROSS JOIN points p2\n",
    "    WHERE p1.name != p2.name\n",
    "    ORDER BY distance\n",
    "    LIMIT 10\n",
    "\"\"\")\n",
    "\n",
    "print(\"Closest point pairs:\")\n",
    "distance_analysis.show()"
   ]
  },
  {
   "cell_type": "markdown",
   "id": "c3b3f692",
   "metadata": {},
   "source": [
    "## Visualization"
   ]
  },
  {
   "cell_type": "code",
   "execution_count": null,
   "id": "a3b64423",
   "metadata": {},
   "outputs": [],
   "source": [
    "# Convert to pandas for visualization\n",
    "points_pdf = filtered_points.toPandas()\n",
    "\n",
    "# Create a simple scatter plot\n",
    "plt.figure(figsize=(10, 6))\n",
    "plt.scatter(points_pdf['longitude'], points_pdf['latitude'], \n",
    "           c=points_pdf['value'], cmap='viridis', alpha=0.7)\n",
    "plt.colorbar(label='Value')\n",
    "plt.xlabel('Longitude')\n",
    "plt.ylabel('Latitude')\n",
    "plt.title('Spatial Points Distribution')\n",
    "plt.grid(True, alpha=0.3)\n",
    "plt.show()"
   ]
  },
  {
   "cell_type": "code",
   "execution_count": null,
   "id": "9b3bd9b2",
   "metadata": {},
   "outputs": [],
   "source": [
    "# Create an interactive map with Folium\n",
    "if len(points_pdf) > 0:\n",
    "    center_lat = points_pdf['latitude'].mean()\n",
    "    center_lon = points_pdf['longitude'].mean()\n",
    "    \n",
    "    m = folium.Map(location=[center_lat, center_lon], zoom_start=6)\n",
    "    \n",
    "    for idx, row in points_pdf.iterrows():\n",
    "        folium.CircleMarker(\n",
    "            location=[row['latitude'], row['longitude']],\n",
    "            radius=5,\n",
    "            popup=f\"Name: {row['name']}<br>Value: {row['value']}\",\n",
    "            color='red',\n",
    "            fill=True,\n",
    "            fillColor='red'\n",
    "        ).add_to(m)\n",
    "    \n",
    "    # Add bounding box\n",
    "    folium.Rectangle(\n",
    "        bounds=[[-10, -10], [10, 10]],\n",
    "        color='blue',\n",
    "        fill=False,\n",
    "        popup='Bounding Box'\n",
    "    ).add_to(m)\n",
    "    \n",
    "    m\n",
    "else:\n",
    "    print(\"No points found within the bounding box to display.\")"
   ]
  },
  {
   "cell_type": "markdown",
   "id": "2487af2a",
   "metadata": {},
   "source": [
    "## Cleanup"
   ]
  },
  {
   "cell_type": "code",
   "execution_count": null,
   "id": "49960037",
   "metadata": {},
   "outputs": [],
   "source": [
    "# Stop Spark session\n",
    "spark.stop()"
   ]
  }
 ],
 "metadata": {
  "language_info": {
   "name": "python"
  }
 },
 "nbformat": 4,
 "nbformat_minor": 5
}
